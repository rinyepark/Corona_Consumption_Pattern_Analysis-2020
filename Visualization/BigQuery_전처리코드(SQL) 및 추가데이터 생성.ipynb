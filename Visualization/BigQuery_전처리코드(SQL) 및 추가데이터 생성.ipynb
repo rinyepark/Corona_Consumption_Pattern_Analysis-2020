{
 "cells": [
  {
   "cell_type": "markdown",
   "metadata": {},
   "source": [
    "# *추가데이터"
   ]
  },
  {
   "cell_type": "markdown",
   "metadata": {},
   "source": [
    "# date_week_v2"
   ]
  },
  {
   "cell_type": "code",
   "execution_count": null,
   "metadata": {},
   "outputs": [],
   "source": [
    "# 날짜-요일 테이블 만들기\n",
    "import calendar\n",
    "\n",
    "def weekday(ymd):\n",
    "    week =['Mon','Tue','Wed','Thr','Fri','Sat','Sun']\n",
    "    year, mon,day = int(ymd[0:4]), int(ymd[4:6]), int(ymd[6:8]) \n",
    "    idx = datetime.date(year,mon,day).weekday()\n",
    "    return week[idx], idx\n",
    "\n",
    "calendar.monthrange(2020,1)\n",
    "\n",
    "date_df = pd.DataFrame([], columns=['base_ymd','mon','weekday','week_num'])\n",
    "\n",
    "\n",
    "idx = 0\n",
    "for year in range(2018,2021):\n",
    "    for mon in range(1,13):\n",
    "        _, limit_day = calendar.monthrange(year,mon)\n",
    "        for day in range(1,limit_day+1):\n",
    "            ymd = '{0:04d}{1:02d}{2:02d}'.format(year,mon,day)\n",
    "            wd,wn = weekday(ymd)\n",
    "            date_df.loc[idx] = [int(ymd),mon,wd,wn] \n",
    "            idx += 1\n",
    "\n",
    "# date_df.to_csv(\"date_week_v2.csv\",index=False)"
   ]
  },
  {
   "cell_type": "code",
   "execution_count": null,
   "metadata": {},
   "outputs": [],
   "source": []
  },
  {
   "cell_type": "markdown",
   "metadata": {},
   "source": [
    "# * BigQuery 전처리"
   ]
  },
  {
   "cell_type": "markdown",
   "metadata": {},
   "source": [
    "# 1. fpopl_v2"
   ]
  },
  {
   "cell_type": "markdown",
   "metadata": {},
   "source": [
    "###### table 구성예시 (총 47546443 행)\n",
    "필드 이름\t유형\t모드\t\n",
    "base_ymd\tINTEGER\tNULLABLE\t\n",
    "tmzon_se_code\tINTEGER\tNULLABLE\t\n",
    "sexdstn_se_code\tSTRING\tNULLABLE\t\n",
    "agrde_se_code\tSTRING\tNULLABLE\t\n",
    "popltn_cascnt\tINTEGER\tNULLABLE\t\n",
    "adstrd_code_str\tSTRING\tNULLABLE\t\n",
    "code\tSTRING\tNULLABLE\t\n",
    "adstrd_nm\tSTRING\tNULLABLE\t\n",
    "brtc_nm\tSTRING\tNULLABLE\t\n",
    "signgu_nm\tSTRING\tNULLABLE\t\n",
    "mon\tINTEGER\tNULLABLE\t\n",
    "weekday\tSTRING\tNULLABLE\t\n",
    "week_num\tINTEGER\tNULLABLE\t"
   ]
  },
  {
   "cell_type": "code",
   "execution_count": 7,
   "metadata": {
    "collapsed": true
   },
   "outputs": [
    {
     "data": {
      "text/plain": [
       "'\\nSELECT * EXCEPT(adstrd_code, base_ymd_str)\\nFROM \\n  (SELECT * \\n  FROM(\\n    SELECT *, SUBSTR(adstrd_code_str,0,5) AS code\\n    FROM(\\n      SELECT *, CAST(adstrd_code AS STRING) AS adstrd_code_str, CAST(base_ymd AS STRING) AS base_ymd_str\\n      FROM KT_data.fpopl)\\n      ) AS A JOIN KT_data.adstrd_master AS B USING(adstrd_code)\\n    ) AS A2 JOIN ADD_data.date_week_v2 AS B2 USING(base_ymd)\\nORDER BY base_ymd, tmzon_se_code, agrde_se_code, sexdstn_se_code, adstrd_code_str;\\n'"
      ]
     },
     "execution_count": 7,
     "metadata": {},
     "output_type": "execute_result"
    }
   ],
   "source": [
    "'''\n",
    "SELECT * EXCEPT(adstrd_code, base_ymd_str)\n",
    "FROM \n",
    "  (SELECT * \n",
    "  FROM(\n",
    "    SELECT *, SUBSTR(adstrd_code_str,0,5) AS code\n",
    "    FROM(\n",
    "      SELECT *, CAST(adstrd_code AS STRING) AS adstrd_code_str, CAST(base_ymd AS STRING) AS base_ymd_str\n",
    "      FROM KT_data.fpopl)\n",
    "      ) AS A JOIN KT_data.adstrd_master AS B USING(adstrd_code)\n",
    "    ) AS A2 JOIN ADD_data.date_week_v2 AS B2 USING(base_ymd)\n",
    "ORDER BY base_ymd, tmzon_se_code, agrde_se_code, sexdstn_se_code, adstrd_code_str;\n",
    "'''"
   ]
  },
  {
   "cell_type": "markdown",
   "metadata": {},
   "source": [
    "# 2. 1_week9allmean_v2"
   ]
  },
  {
   "cell_type": "markdown",
   "metadata": {},
   "source": [
    "* 구성예시   \n",
    "{\n",
    "    \"code\": \"11110\",  \n",
    "    \"weekday\": \"Mon\",  \n",
    "    \"week_num\": \"0\",  \n",
    "    \"signgu_nm\": \"종로구\",  \n",
    "    \"Mean_CNT\": \"154.3989\"  \n",
    "  },"
   ]
  },
  {
   "cell_type": "code",
   "execution_count": null,
   "metadata": {},
   "outputs": [],
   "source": [
    "'''\n",
    "SELECT code, weekday, week_num,  signgu_nm, ROUND(AVG(popltn_cascnt),4) AS Mean_CNT\n",
    "FROM PROCESS_data.fpopl_v2\n",
    "GROUP BY weekday,week_num, signgu_nm, code\n",
    "ORDER BY code, week_num\n",
    "'''"
   ]
  },
  {
   "cell_type": "markdown",
   "metadata": {},
   "source": [
    "# 3. 2_tzallmean\n",
    "\n",
    "* 구성예시  \n",
    "{\n",
    "    \"tmzon_se_code\": \"0\",  \n",
    "    \"code\": \"11110\",  \n",
    "    \"signgu_nm\": \"종로구\",  \n",
    "    \"Mean_CNT\": \"70.66537\"  \n",
    "  },"
   ]
  },
  {
   "cell_type": "code",
   "execution_count": null,
   "metadata": {},
   "outputs": [],
   "source": [
    "'''\n",
    "SELECT tmzon_se_code, code, signgu_nm, ROUND(AVG(popltn_cascnt),5) AS Mean_CNT\n",
    "FROM PROCESS_data.fpopl_v2\n",
    "GROUP BY tmzon_se_code, code, signgu_nm\n",
    "ORDER BY tmzon_se_code, code\n",
    "'''"
   ]
  },
  {
   "cell_type": "markdown",
   "metadata": {},
   "source": [
    "# 4. delivery_day9cnt"
   ]
  },
  {
   "cell_type": "code",
   "execution_count": 1,
   "metadata": {
    "collapsed": true
   },
   "outputs": [
    {
     "data": {
      "text/plain": [
       "\"\\nSELECT PROCESS_DT, code, DLVR_STORE_INDUTY_NM, COUNT(DLVR_STORE_INDUTY_NM) AS CNT\\nFROM(\\n  SELECT *, SUBSTR(STORECODE_STR,0,5) AS code\\n  FROM(\\n    SELECT *, CAST(DLVR_STORE_LEGALDONG_CODE AS STRING) AS STORECODE_STR\\n    FROM KT_data.delivery\\n    WHERE DLVR_STORE_SIDO ='서울특별시'))\\nGROUP BY PROCESS_DT, code, DLVR_STORE_INDUTY_NM\\nORDER BY PROCESS_DT\\n\""
      ]
     },
     "execution_count": 1,
     "metadata": {},
     "output_type": "execute_result"
    }
   ],
   "source": [
    "'''\n",
    "SELECT PROCESS_DT, code, DLVR_STORE_INDUTY_NM, COUNT(DLVR_STORE_INDUTY_NM) AS CNT\n",
    "FROM(\n",
    "  SELECT *, SUBSTR(STORECODE_STR,0,5) AS code\n",
    "  FROM(\n",
    "    SELECT *, CAST(DLVR_STORE_LEGALDONG_CODE AS STRING) AS STORECODE_STR\n",
    "    FROM KT_data.delivery\n",
    "    WHERE DLVR_STORE_SIDO ='서울특별시'))\n",
    "GROUP BY PROCESS_DT, code, DLVR_STORE_INDUTY_NM\n",
    "ORDER BY PROCESS_DT\n",
    "'''"
   ]
  },
  {
   "cell_type": "code",
   "execution_count": null,
   "metadata": {},
   "outputs": [],
   "source": []
  }
 ],
 "metadata": {
  "kernelspec": {
   "display_name": "Python 3",
   "language": "python",
   "name": "python3"
  },
  "language_info": {
   "codemirror_mode": {
    "name": "ipython",
    "version": 3
   },
   "file_extension": ".py",
   "mimetype": "text/x-python",
   "name": "python",
   "nbconvert_exporter": "python",
   "pygments_lexer": "ipython3",
   "version": "3.6.4"
  }
 },
 "nbformat": 4,
 "nbformat_minor": 2
}
